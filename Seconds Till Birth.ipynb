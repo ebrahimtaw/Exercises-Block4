{
 "cells": [
  {
   "cell_type": "markdown",
   "id": "cc9c4f58-ee8b-4ea2-9d6b-6e70057a17f9",
   "metadata": {},
   "source": [
    "# Seconds Till Birth"
   ]
  },
  {
   "cell_type": "code",
   "execution_count": 1,
   "id": "d7fbd7f3-1527-4627-9c44-303e0b74a9a6",
   "metadata": {},
   "outputs": [],
   "source": [
    "from datetime import datetime"
   ]
  },
  {
   "cell_type": "code",
   "execution_count": 4,
   "id": "4d6dae27-3f32-49fc-a1f2-97ca7099ec13",
   "metadata": {},
   "outputs": [],
   "source": [
    "def seconds_till_birth(day, month, year):\n",
    "    birth_date = datetime(year, month, day)\n",
    "    date_now = datetime.now()\n",
    "    total_seconds = (date_now - birth_date).total_seconds()\n",
    "    return total_seconds"
   ]
  },
  {
   "cell_type": "code",
   "execution_count": 5,
   "id": "d217ebc5-c977-457e-bd96-dac3e483bc45",
   "metadata": {},
   "outputs": [
    {
     "name": "stdout",
     "output_type": "stream",
     "text": [
      "593129088.554002\n"
     ]
    }
   ],
   "source": [
    "print(seconds_till_birth(31, 1, 2006))"
   ]
  },
  {
   "cell_type": "code",
   "execution_count": null,
   "id": "d90915d8-b29e-4d26-8b3d-328ee46ff89e",
   "metadata": {},
   "outputs": [],
   "source": []
  }
 ],
 "metadata": {
  "kernelspec": {
   "display_name": "Python 3 (ipykernel)",
   "language": "python",
   "name": "python3"
  },
  "language_info": {
   "codemirror_mode": {
    "name": "ipython",
    "version": 3
   },
   "file_extension": ".py",
   "mimetype": "text/x-python",
   "name": "python",
   "nbconvert_exporter": "python",
   "pygments_lexer": "ipython3",
   "version": "3.12.4"
  }
 },
 "nbformat": 4,
 "nbformat_minor": 5
}
